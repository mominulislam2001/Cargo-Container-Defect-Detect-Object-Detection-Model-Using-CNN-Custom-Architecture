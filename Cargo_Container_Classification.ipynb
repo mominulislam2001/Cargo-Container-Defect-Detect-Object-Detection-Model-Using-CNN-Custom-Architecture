{
  "nbformat": 4,
  "nbformat_minor": 0,
  "metadata": {
    "colab": {
      "provenance": [],
      "gpuType": "T4"
    },
    "kernelspec": {
      "name": "python3",
      "display_name": "Python 3"
    },
    "language_info": {
      "name": "python"
    },
    "accelerator": "GPU"
  },
  "cells": [
    {
      "cell_type": "markdown",
      "source": [
        "Importing Libraries"
      ],
      "metadata": {
        "id": "ImLcpQxpD-E4"
      }
    },
    {
      "cell_type": "code",
      "execution_count": 3,
      "metadata": {
        "id": "ikUCEA0IpyBb"
      },
      "outputs": [],
      "source": [
        "import pandas as pd\n",
        "from PIL import Image\n",
        "import numpy as np\n",
        "from sklearn.model_selection import train_test_split\n",
        "from sklearn.preprocessing import LabelEncoder\n",
        "from tensorflow.keras.utils import to_categorical\n",
        "from tensorflow.keras.models import Model\n",
        "from tensorflow.keras.layers import Conv2D, MaxPooling2D, Flatten, Dense, Dropout, Input\n",
        "import zipfile\n",
        "import os"
      ]
    },
    {
      "cell_type": "markdown",
      "source": [
        "Unzip The Dataset given in the Drive File Name : dataset.zip"
      ],
      "metadata": {
        "id": "fmJV6RnBB1kc"
      }
    },
    {
      "cell_type": "code",
      "source": [
        "zip_file_path = '/content/dataset.zip'\n",
        "\n",
        "\n",
        "extracted_dir = '/content/dataset'\n",
        "\n",
        "os.makedirs(extracted_dir, exist_ok=True)\n",
        "\n",
        "\n",
        "with zipfile.ZipFile(zip_file_path, 'r') as zip_ref:\n",
        "    zip_ref.extractall(extracted_dir)\n",
        "\n",
        "\n",
        "extracted_files = os.listdir(extracted_dir)\n",
        "print(f\"Extracted files: {extracted_files}\")"
      ],
      "metadata": {
        "colab": {
          "base_uri": "https://localhost:8080/"
        },
        "id": "9GFWM-dR2WgO",
        "outputId": "ba5ae2fb-4b06-442e-c217-7155c970a68f"
      },
      "execution_count": 4,
      "outputs": [
        {
          "output_type": "stream",
          "name": "stdout",
          "text": [
            "Extracted files: ['train', 'valid', 'README.dataset.txt', 'README.roboflow.txt']\n"
          ]
        }
      ]
    },
    {
      "cell_type": "markdown",
      "source": [
        "Reading the annotation.csv file into a DataFrame Object"
      ],
      "metadata": {
        "id": "v4Nz-pQKB6U0"
      }
    },
    {
      "cell_type": "code",
      "source": [
        "annotations_df = pd.read_csv('/content/dataset/train/_annotations.csv')"
      ],
      "metadata": {
        "id": "RcxPZf-_2WXk"
      },
      "execution_count": 5,
      "outputs": []
    },
    {
      "cell_type": "code",
      "source": [
        "annotations_df.head()"
      ],
      "metadata": {
        "id": "cQ1ICqqzqPcx",
        "colab": {
          "base_uri": "https://localhost:8080/",
          "height": 206
        },
        "outputId": "7b774188-0619-439e-c14c-37fab72b075d"
      },
      "execution_count": 6,
      "outputs": [
        {
          "output_type": "execute_result",
          "data": {
            "text/plain": [
              "                                         filename  width  height class  xmin  \\\n",
              "0  53_jpg.rf.249070f5ab7bd8dc0b59d839110277b0.jpg    640     640  rust     0   \n",
              "1  53_jpg.rf.249070f5ab7bd8dc0b59d839110277b0.jpg    640     640  rust    61   \n",
              "2  53_jpg.rf.249070f5ab7bd8dc0b59d839110277b0.jpg    640     640  rust   422   \n",
              "3  53_jpg.rf.249070f5ab7bd8dc0b59d839110277b0.jpg    640     640  rust   330   \n",
              "4  53_jpg.rf.249070f5ab7bd8dc0b59d839110277b0.jpg    640     640  rust   301   \n",
              "\n",
              "   ymin  xmax  ymax  \n",
              "0   539   120   593  \n",
              "1   580    95   640  \n",
              "2   312   456   585  \n",
              "3   455   349   490  \n",
              "4   449   324   484  "
            ],
            "text/html": [
              "\n",
              "  <div id=\"df-dde6e884-66f5-468e-9f57-6166028ce14c\" class=\"colab-df-container\">\n",
              "    <div>\n",
              "<style scoped>\n",
              "    .dataframe tbody tr th:only-of-type {\n",
              "        vertical-align: middle;\n",
              "    }\n",
              "\n",
              "    .dataframe tbody tr th {\n",
              "        vertical-align: top;\n",
              "    }\n",
              "\n",
              "    .dataframe thead th {\n",
              "        text-align: right;\n",
              "    }\n",
              "</style>\n",
              "<table border=\"1\" class=\"dataframe\">\n",
              "  <thead>\n",
              "    <tr style=\"text-align: right;\">\n",
              "      <th></th>\n",
              "      <th>filename</th>\n",
              "      <th>width</th>\n",
              "      <th>height</th>\n",
              "      <th>class</th>\n",
              "      <th>xmin</th>\n",
              "      <th>ymin</th>\n",
              "      <th>xmax</th>\n",
              "      <th>ymax</th>\n",
              "    </tr>\n",
              "  </thead>\n",
              "  <tbody>\n",
              "    <tr>\n",
              "      <th>0</th>\n",
              "      <td>53_jpg.rf.249070f5ab7bd8dc0b59d839110277b0.jpg</td>\n",
              "      <td>640</td>\n",
              "      <td>640</td>\n",
              "      <td>rust</td>\n",
              "      <td>0</td>\n",
              "      <td>539</td>\n",
              "      <td>120</td>\n",
              "      <td>593</td>\n",
              "    </tr>\n",
              "    <tr>\n",
              "      <th>1</th>\n",
              "      <td>53_jpg.rf.249070f5ab7bd8dc0b59d839110277b0.jpg</td>\n",
              "      <td>640</td>\n",
              "      <td>640</td>\n",
              "      <td>rust</td>\n",
              "      <td>61</td>\n",
              "      <td>580</td>\n",
              "      <td>95</td>\n",
              "      <td>640</td>\n",
              "    </tr>\n",
              "    <tr>\n",
              "      <th>2</th>\n",
              "      <td>53_jpg.rf.249070f5ab7bd8dc0b59d839110277b0.jpg</td>\n",
              "      <td>640</td>\n",
              "      <td>640</td>\n",
              "      <td>rust</td>\n",
              "      <td>422</td>\n",
              "      <td>312</td>\n",
              "      <td>456</td>\n",
              "      <td>585</td>\n",
              "    </tr>\n",
              "    <tr>\n",
              "      <th>3</th>\n",
              "      <td>53_jpg.rf.249070f5ab7bd8dc0b59d839110277b0.jpg</td>\n",
              "      <td>640</td>\n",
              "      <td>640</td>\n",
              "      <td>rust</td>\n",
              "      <td>330</td>\n",
              "      <td>455</td>\n",
              "      <td>349</td>\n",
              "      <td>490</td>\n",
              "    </tr>\n",
              "    <tr>\n",
              "      <th>4</th>\n",
              "      <td>53_jpg.rf.249070f5ab7bd8dc0b59d839110277b0.jpg</td>\n",
              "      <td>640</td>\n",
              "      <td>640</td>\n",
              "      <td>rust</td>\n",
              "      <td>301</td>\n",
              "      <td>449</td>\n",
              "      <td>324</td>\n",
              "      <td>484</td>\n",
              "    </tr>\n",
              "  </tbody>\n",
              "</table>\n",
              "</div>\n",
              "    <div class=\"colab-df-buttons\">\n",
              "\n",
              "  <div class=\"colab-df-container\">\n",
              "    <button class=\"colab-df-convert\" onclick=\"convertToInteractive('df-dde6e884-66f5-468e-9f57-6166028ce14c')\"\n",
              "            title=\"Convert this dataframe to an interactive table.\"\n",
              "            style=\"display:none;\">\n",
              "\n",
              "  <svg xmlns=\"http://www.w3.org/2000/svg\" height=\"24px\" viewBox=\"0 -960 960 960\">\n",
              "    <path d=\"M120-120v-720h720v720H120Zm60-500h600v-160H180v160Zm220 220h160v-160H400v160Zm0 220h160v-160H400v160ZM180-400h160v-160H180v160Zm440 0h160v-160H620v160ZM180-180h160v-160H180v160Zm440 0h160v-160H620v160Z\"/>\n",
              "  </svg>\n",
              "    </button>\n",
              "\n",
              "  <style>\n",
              "    .colab-df-container {\n",
              "      display:flex;\n",
              "      gap: 12px;\n",
              "    }\n",
              "\n",
              "    .colab-df-convert {\n",
              "      background-color: #E8F0FE;\n",
              "      border: none;\n",
              "      border-radius: 50%;\n",
              "      cursor: pointer;\n",
              "      display: none;\n",
              "      fill: #1967D2;\n",
              "      height: 32px;\n",
              "      padding: 0 0 0 0;\n",
              "      width: 32px;\n",
              "    }\n",
              "\n",
              "    .colab-df-convert:hover {\n",
              "      background-color: #E2EBFA;\n",
              "      box-shadow: 0px 1px 2px rgba(60, 64, 67, 0.3), 0px 1px 3px 1px rgba(60, 64, 67, 0.15);\n",
              "      fill: #174EA6;\n",
              "    }\n",
              "\n",
              "    .colab-df-buttons div {\n",
              "      margin-bottom: 4px;\n",
              "    }\n",
              "\n",
              "    [theme=dark] .colab-df-convert {\n",
              "      background-color: #3B4455;\n",
              "      fill: #D2E3FC;\n",
              "    }\n",
              "\n",
              "    [theme=dark] .colab-df-convert:hover {\n",
              "      background-color: #434B5C;\n",
              "      box-shadow: 0px 1px 3px 1px rgba(0, 0, 0, 0.15);\n",
              "      filter: drop-shadow(0px 1px 2px rgba(0, 0, 0, 0.3));\n",
              "      fill: #FFFFFF;\n",
              "    }\n",
              "  </style>\n",
              "\n",
              "    <script>\n",
              "      const buttonEl =\n",
              "        document.querySelector('#df-dde6e884-66f5-468e-9f57-6166028ce14c button.colab-df-convert');\n",
              "      buttonEl.style.display =\n",
              "        google.colab.kernel.accessAllowed ? 'block' : 'none';\n",
              "\n",
              "      async function convertToInteractive(key) {\n",
              "        const element = document.querySelector('#df-dde6e884-66f5-468e-9f57-6166028ce14c');\n",
              "        const dataTable =\n",
              "          await google.colab.kernel.invokeFunction('convertToInteractive',\n",
              "                                                    [key], {});\n",
              "        if (!dataTable) return;\n",
              "\n",
              "        const docLinkHtml = 'Like what you see? Visit the ' +\n",
              "          '<a target=\"_blank\" href=https://colab.research.google.com/notebooks/data_table.ipynb>data table notebook</a>'\n",
              "          + ' to learn more about interactive tables.';\n",
              "        element.innerHTML = '';\n",
              "        dataTable['output_type'] = 'display_data';\n",
              "        await google.colab.output.renderOutput(dataTable, element);\n",
              "        const docLink = document.createElement('div');\n",
              "        docLink.innerHTML = docLinkHtml;\n",
              "        element.appendChild(docLink);\n",
              "      }\n",
              "    </script>\n",
              "  </div>\n",
              "\n",
              "\n",
              "<div id=\"df-571d3301-6d28-4ea8-a8fd-305ae37ed3bf\">\n",
              "  <button class=\"colab-df-quickchart\" onclick=\"quickchart('df-571d3301-6d28-4ea8-a8fd-305ae37ed3bf')\"\n",
              "            title=\"Suggest charts\"\n",
              "            style=\"display:none;\">\n",
              "\n",
              "<svg xmlns=\"http://www.w3.org/2000/svg\" height=\"24px\"viewBox=\"0 0 24 24\"\n",
              "     width=\"24px\">\n",
              "    <g>\n",
              "        <path d=\"M19 3H5c-1.1 0-2 .9-2 2v14c0 1.1.9 2 2 2h14c1.1 0 2-.9 2-2V5c0-1.1-.9-2-2-2zM9 17H7v-7h2v7zm4 0h-2V7h2v10zm4 0h-2v-4h2v4z\"/>\n",
              "    </g>\n",
              "</svg>\n",
              "  </button>\n",
              "\n",
              "<style>\n",
              "  .colab-df-quickchart {\n",
              "      --bg-color: #E8F0FE;\n",
              "      --fill-color: #1967D2;\n",
              "      --hover-bg-color: #E2EBFA;\n",
              "      --hover-fill-color: #174EA6;\n",
              "      --disabled-fill-color: #AAA;\n",
              "      --disabled-bg-color: #DDD;\n",
              "  }\n",
              "\n",
              "  [theme=dark] .colab-df-quickchart {\n",
              "      --bg-color: #3B4455;\n",
              "      --fill-color: #D2E3FC;\n",
              "      --hover-bg-color: #434B5C;\n",
              "      --hover-fill-color: #FFFFFF;\n",
              "      --disabled-bg-color: #3B4455;\n",
              "      --disabled-fill-color: #666;\n",
              "  }\n",
              "\n",
              "  .colab-df-quickchart {\n",
              "    background-color: var(--bg-color);\n",
              "    border: none;\n",
              "    border-radius: 50%;\n",
              "    cursor: pointer;\n",
              "    display: none;\n",
              "    fill: var(--fill-color);\n",
              "    height: 32px;\n",
              "    padding: 0;\n",
              "    width: 32px;\n",
              "  }\n",
              "\n",
              "  .colab-df-quickchart:hover {\n",
              "    background-color: var(--hover-bg-color);\n",
              "    box-shadow: 0 1px 2px rgba(60, 64, 67, 0.3), 0 1px 3px 1px rgba(60, 64, 67, 0.15);\n",
              "    fill: var(--button-hover-fill-color);\n",
              "  }\n",
              "\n",
              "  .colab-df-quickchart-complete:disabled,\n",
              "  .colab-df-quickchart-complete:disabled:hover {\n",
              "    background-color: var(--disabled-bg-color);\n",
              "    fill: var(--disabled-fill-color);\n",
              "    box-shadow: none;\n",
              "  }\n",
              "\n",
              "  .colab-df-spinner {\n",
              "    border: 2px solid var(--fill-color);\n",
              "    border-color: transparent;\n",
              "    border-bottom-color: var(--fill-color);\n",
              "    animation:\n",
              "      spin 1s steps(1) infinite;\n",
              "  }\n",
              "\n",
              "  @keyframes spin {\n",
              "    0% {\n",
              "      border-color: transparent;\n",
              "      border-bottom-color: var(--fill-color);\n",
              "      border-left-color: var(--fill-color);\n",
              "    }\n",
              "    20% {\n",
              "      border-color: transparent;\n",
              "      border-left-color: var(--fill-color);\n",
              "      border-top-color: var(--fill-color);\n",
              "    }\n",
              "    30% {\n",
              "      border-color: transparent;\n",
              "      border-left-color: var(--fill-color);\n",
              "      border-top-color: var(--fill-color);\n",
              "      border-right-color: var(--fill-color);\n",
              "    }\n",
              "    40% {\n",
              "      border-color: transparent;\n",
              "      border-right-color: var(--fill-color);\n",
              "      border-top-color: var(--fill-color);\n",
              "    }\n",
              "    60% {\n",
              "      border-color: transparent;\n",
              "      border-right-color: var(--fill-color);\n",
              "    }\n",
              "    80% {\n",
              "      border-color: transparent;\n",
              "      border-right-color: var(--fill-color);\n",
              "      border-bottom-color: var(--fill-color);\n",
              "    }\n",
              "    90% {\n",
              "      border-color: transparent;\n",
              "      border-bottom-color: var(--fill-color);\n",
              "    }\n",
              "  }\n",
              "</style>\n",
              "\n",
              "  <script>\n",
              "    async function quickchart(key) {\n",
              "      const quickchartButtonEl =\n",
              "        document.querySelector('#' + key + ' button');\n",
              "      quickchartButtonEl.disabled = true;  // To prevent multiple clicks.\n",
              "      quickchartButtonEl.classList.add('colab-df-spinner');\n",
              "      try {\n",
              "        const charts = await google.colab.kernel.invokeFunction(\n",
              "            'suggestCharts', [key], {});\n",
              "      } catch (error) {\n",
              "        console.error('Error during call to suggestCharts:', error);\n",
              "      }\n",
              "      quickchartButtonEl.classList.remove('colab-df-spinner');\n",
              "      quickchartButtonEl.classList.add('colab-df-quickchart-complete');\n",
              "    }\n",
              "    (() => {\n",
              "      let quickchartButtonEl =\n",
              "        document.querySelector('#df-571d3301-6d28-4ea8-a8fd-305ae37ed3bf button');\n",
              "      quickchartButtonEl.style.display =\n",
              "        google.colab.kernel.accessAllowed ? 'block' : 'none';\n",
              "    })();\n",
              "  </script>\n",
              "</div>\n",
              "\n",
              "    </div>\n",
              "  </div>\n"
            ]
          },
          "metadata": {},
          "execution_count": 6
        }
      ]
    },
    {
      "cell_type": "code",
      "source": [
        "annotations_df.columns"
      ],
      "metadata": {
        "colab": {
          "base_uri": "https://localhost:8080/"
        },
        "id": "QhzJDZAnqXD2",
        "outputId": "c332202b-4351-466b-937c-b2c2ff075ef1"
      },
      "execution_count": 7,
      "outputs": [
        {
          "output_type": "execute_result",
          "data": {
            "text/plain": [
              "Index(['filename', 'width', 'height', 'class', 'xmin', 'ymin', 'xmax', 'ymax'], dtype='object')"
            ]
          },
          "metadata": {},
          "execution_count": 7
        }
      ]
    },
    {
      "cell_type": "code",
      "source": [
        "image_paths = annotations_df['filename'].values\n",
        "class_labels = annotations_df['class'].values"
      ],
      "metadata": {
        "id": "9IsfUe0ZcndQ"
      },
      "execution_count": 8,
      "outputs": []
    },
    {
      "cell_type": "code",
      "source": [
        "image_paths"
      ],
      "metadata": {
        "colab": {
          "base_uri": "https://localhost:8080/"
        },
        "id": "G9Kl6pqDCyNq",
        "outputId": "9b91d560-731d-4b61-f6e8-3573639f2d20"
      },
      "execution_count": 9,
      "outputs": [
        {
          "output_type": "execute_result",
          "data": {
            "text/plain": [
              "array(['53_jpg.rf.249070f5ab7bd8dc0b59d839110277b0.jpg',\n",
              "       '53_jpg.rf.249070f5ab7bd8dc0b59d839110277b0.jpg',\n",
              "       '53_jpg.rf.249070f5ab7bd8dc0b59d839110277b0.jpg', ...,\n",
              "       '98_jpg.rf.fff4644467ce317761c80c8773f0a1e9.jpg',\n",
              "       '98_jpg.rf.fff4644467ce317761c80c8773f0a1e9.jpg',\n",
              "       '98_jpg.rf.fff4644467ce317761c80c8773f0a1e9.jpg'], dtype=object)"
            ]
          },
          "metadata": {},
          "execution_count": 9
        }
      ]
    },
    {
      "cell_type": "code",
      "source": [
        "class_labels"
      ],
      "metadata": {
        "colab": {
          "base_uri": "https://localhost:8080/"
        },
        "id": "WS7GF18ICzcM",
        "outputId": "90bb82c0-2a83-411f-9a27-1ce94385445e"
      },
      "execution_count": 10,
      "outputs": [
        {
          "output_type": "execute_result",
          "data": {
            "text/plain": [
              "array(['rust', 'rust', 'rust', ..., 'rust', 'rust', 'dent'], dtype=object)"
            ]
          },
          "metadata": {},
          "execution_count": 10
        }
      ]
    },
    {
      "cell_type": "code",
      "source": [
        "annotations_df['filename'] = extracted_dir + '/' + annotations_df['filename']"
      ],
      "metadata": {
        "id": "PGFhy3X7eyvG"
      },
      "execution_count": 11,
      "outputs": []
    },
    {
      "cell_type": "code",
      "source": [
        "annotations_df['filename']"
      ],
      "metadata": {
        "colab": {
          "base_uri": "https://localhost:8080/"
        },
        "id": "Uk_EypMwe121",
        "outputId": "a63cad01-f9d2-4f1f-8782-ee91c221e724"
      },
      "execution_count": 12,
      "outputs": [
        {
          "output_type": "execute_result",
          "data": {
            "text/plain": [
              "0       /content/dataset/53_jpg.rf.249070f5ab7bd8dc0b5...\n",
              "1       /content/dataset/53_jpg.rf.249070f5ab7bd8dc0b5...\n",
              "2       /content/dataset/53_jpg.rf.249070f5ab7bd8dc0b5...\n",
              "3       /content/dataset/53_jpg.rf.249070f5ab7bd8dc0b5...\n",
              "4       /content/dataset/53_jpg.rf.249070f5ab7bd8dc0b5...\n",
              "                              ...                        \n",
              "1570    /content/dataset/98_jpg.rf.fff4644467ce317761c...\n",
              "1571    /content/dataset/98_jpg.rf.fff4644467ce317761c...\n",
              "1572    /content/dataset/98_jpg.rf.fff4644467ce317761c...\n",
              "1573    /content/dataset/98_jpg.rf.fff4644467ce317761c...\n",
              "1574    /content/dataset/98_jpg.rf.fff4644467ce317761c...\n",
              "Name: filename, Length: 1575, dtype: object"
            ]
          },
          "metadata": {},
          "execution_count": 12
        }
      ]
    },
    {
      "cell_type": "markdown",
      "source": [
        " Loading images into an array and resize them to a consistent size"
      ],
      "metadata": {
        "id": "IBYS2w_sAo0g"
      }
    },
    {
      "cell_type": "code",
      "source": [
        "\n",
        "images = []\n",
        "for i, image_path in enumerate(image_paths):\n",
        "    img = Image.open(f\"/content/dataset/train/{image_path}\")\n",
        "    img = img.resize((224, 224))\n",
        "    img_array = np.array(img)\n",
        "    images.append(img_array)\n"
      ],
      "metadata": {
        "id": "3tbrA1ElquNH"
      },
      "execution_count": 13,
      "outputs": []
    },
    {
      "cell_type": "code",
      "source": [
        "images[0]"
      ],
      "metadata": {
        "id": "64AYBIiXqy0H",
        "colab": {
          "base_uri": "https://localhost:8080/"
        },
        "outputId": "2390e175-f5ec-4641-9135-6d032521aa21"
      },
      "execution_count": 14,
      "outputs": [
        {
          "output_type": "execute_result",
          "data": {
            "text/plain": [
              "array([[[164, 168, 177],\n",
              "        [164, 168, 177],\n",
              "        [166, 170, 179],\n",
              "        ...,\n",
              "        [231, 231, 231],\n",
              "        [234, 234, 234],\n",
              "        [238, 238, 238]],\n",
              "\n",
              "       [[149, 153, 162],\n",
              "        [149, 153, 162],\n",
              "        [151, 155, 164],\n",
              "        ...,\n",
              "        [221, 221, 221],\n",
              "        [223, 223, 223],\n",
              "        [228, 228, 228]],\n",
              "\n",
              "       [[150, 154, 163],\n",
              "        [150, 154, 163],\n",
              "        [151, 155, 164],\n",
              "        ...,\n",
              "        [222, 222, 222],\n",
              "        [222, 222, 222],\n",
              "        [229, 229, 229]],\n",
              "\n",
              "       ...,\n",
              "\n",
              "       [[103,  90,  65],\n",
              "        [140, 124,  98],\n",
              "        [126, 109,  82],\n",
              "        ...,\n",
              "        [130,  75,  58],\n",
              "        [151,  86,  69],\n",
              "        [165,  91,  74]],\n",
              "\n",
              "       [[105,  93,  70],\n",
              "        [142, 128, 103],\n",
              "        [133, 117,  91],\n",
              "        ...,\n",
              "        [138,  76,  55],\n",
              "        [147,  80,  60],\n",
              "        [162,  92,  74]],\n",
              "\n",
              "       [[105,  94,  71],\n",
              "        [144, 130, 105],\n",
              "        [136, 120,  95],\n",
              "        ...,\n",
              "        [146,  84,  58],\n",
              "        [149,  86,  64],\n",
              "        [153,  87,  68]]], dtype=uint8)"
            ]
          },
          "metadata": {},
          "execution_count": 14
        }
      ]
    },
    {
      "cell_type": "markdown",
      "source": [
        "Classes in Our Dataset :\n",
        "\n",
        "*   Dent\n",
        "*   Rust\n",
        "*   Hole\n",
        "\n",
        "\n"
      ],
      "metadata": {
        "id": "sfZUKl6GCMAn"
      }
    },
    {
      "cell_type": "code",
      "source": [
        "values, counts = np.unique(class_labels, return_counts=True)\n",
        "values"
      ],
      "metadata": {
        "colab": {
          "base_uri": "https://localhost:8080/"
        },
        "id": "0VI_nAsndyR_",
        "outputId": "26e79848-978f-4736-8a52-da39a8e5f80d"
      },
      "execution_count": 15,
      "outputs": [
        {
          "output_type": "execute_result",
          "data": {
            "text/plain": [
              "array(['dent', 'hole', 'rust'], dtype=object)"
            ]
          },
          "metadata": {},
          "execution_count": 15
        }
      ]
    },
    {
      "cell_type": "markdown",
      "source": [
        "Bounding Box Coordinates of each images"
      ],
      "metadata": {
        "id": "TS0EVVMzCh6n"
      }
    },
    {
      "cell_type": "code",
      "source": [
        "\n",
        "bbox_coordinates = annotations_df[['xmin', 'ymin', 'xmax', 'ymax']].values"
      ],
      "metadata": {
        "id": "z_P9y1HAgz_B"
      },
      "execution_count": 16,
      "outputs": []
    },
    {
      "cell_type": "code",
      "source": [
        "bbox_coordinates"
      ],
      "metadata": {
        "colab": {
          "base_uri": "https://localhost:8080/"
        },
        "id": "dJ0z2d_Bg1hO",
        "outputId": "a59fb3db-03e4-4f8a-fbcd-ac421cad3df0"
      },
      "execution_count": 17,
      "outputs": [
        {
          "output_type": "execute_result",
          "data": {
            "text/plain": [
              "array([[  0, 539, 120, 593],\n",
              "       [ 61, 580,  95, 640],\n",
              "       [422, 312, 456, 585],\n",
              "       ...,\n",
              "       [467, 256, 481, 315],\n",
              "       [528, 264, 551, 398],\n",
              "       [  8, 279,  22, 307]])"
            ]
          },
          "metadata": {},
          "execution_count": 17
        }
      ]
    },
    {
      "cell_type": "markdown",
      "source": [
        "Useing LabelEncoder for encoding class labels"
      ],
      "metadata": {
        "id": "CByeHkHyAtl8"
      }
    },
    {
      "cell_type": "code",
      "source": [
        "\n",
        "label_encoder = LabelEncoder()\n",
        "encoded_labels = label_encoder.fit_transform(class_labels)\n",
        "\n",
        "one_hot_labels = to_categorical(encoded_labels, num_classes=len(label_encoder.classes_))\n",
        "\n"
      ],
      "metadata": {
        "id": "Yk2oeQ1yfx8E"
      },
      "execution_count": 18,
      "outputs": []
    },
    {
      "cell_type": "code",
      "source": [
        "bounding_boxes = np.array(bbox_coordinates)"
      ],
      "metadata": {
        "id": "LypzI9fQAxK8"
      },
      "execution_count": 19,
      "outputs": []
    },
    {
      "cell_type": "markdown",
      "source": [
        "Spliting the Data"
      ],
      "metadata": {
        "id": "0bvhOrxdAynf"
      }
    },
    {
      "cell_type": "code",
      "source": [
        "X_train, X_val, y_train, y_val, bbox_train, bbox_val = train_test_split(images, one_hot_labels, bounding_boxes, test_size=0.2, random_state=42)"
      ],
      "metadata": {
        "id": "B2j6gw1Qg-Nn"
      },
      "execution_count": 20,
      "outputs": []
    },
    {
      "cell_type": "markdown",
      "source": [
        "Creating the Convolutional Neural Network With Two Seperate Branches One for the Images another one for the Bunding Box Coordinates"
      ],
      "metadata": {
        "id": "6FoA68Y3C6N4"
      }
    },
    {
      "cell_type": "markdown",
      "source": [
        "# Classification branch\n"
      ],
      "metadata": {
        "id": "BmfyNabnA2rU"
      }
    },
    {
      "cell_type": "code",
      "source": [
        "input_layer = Input(shape=(224, 224, 3))\n",
        "\n",
        "x = Conv2D(32, (3, 3), activation='relu')(input_layer)\n",
        "x = MaxPooling2D((2, 2))(x)\n",
        "x = Conv2D(64, (3, 3), activation='relu')(x)\n",
        "x = MaxPooling2D((2, 2))(x)\n",
        "x = Conv2D(128, (3, 3), activation='relu')(x)\n",
        "x = MaxPooling2D((2, 2))(x)\n",
        "x = Flatten()(x)\n",
        "x = Dense(256, activation='relu')(x)\n",
        "x = Dropout(0.5)(x)\n",
        "classification_output = Dense(len(label_encoder.classes_), activation='softmax', name='classification_output')(x)\n"
      ],
      "metadata": {
        "id": "VmUGoQdjgpOC"
      },
      "execution_count": 21,
      "outputs": []
    },
    {
      "cell_type": "markdown",
      "source": [
        "Regression branch\n"
      ],
      "metadata": {
        "id": "3lrQTE3yA72Q"
      }
    },
    {
      "cell_type": "code",
      "source": [
        "x = Conv2D(64, (3, 3), activation='relu')(input_layer)\n",
        "x = MaxPooling2D((2, 2))(x)\n",
        "x = Conv2D(128, (3, 3), activation='relu')(x)\n",
        "x = MaxPooling2D((2, 2))(x)\n",
        "x = Flatten()(x)\n",
        "x = Dense(256, activation='relu')(x)\n",
        "x = Dropout(0.5)(x)\n",
        "bounding_box_output = Dense(4, activation='linear', name='bounding_box_output')(x)  # 4 outputs for xmin, ymin, xmax, ymax"
      ],
      "metadata": {
        "id": "401meGkpA-_8"
      },
      "execution_count": 22,
      "outputs": []
    },
    {
      "cell_type": "markdown",
      "source": [
        "epochs=15, batch_size=32,"
      ],
      "metadata": {
        "id": "18plhl7YDKer"
      }
    },
    {
      "cell_type": "code",
      "source": [
        "model = Model(inputs=input_layer, outputs=[classification_output, bounding_box_output])\n",
        "\n",
        "model.compile(optimizer='adam',\n",
        "              loss={'classification_output': 'categorical_crossentropy', 'bounding_box_output': 'mse'},\n",
        "              metrics={'classification_output': 'accuracy'})\n",
        "\n",
        "model.fit(np.array(X_train), {'classification_output': np.array(y_train), 'bounding_box_output': np.array(bbox_train)},\n",
        "          epochs=15, batch_size=32,\n",
        "          validation_data=(np.array(X_val), {'classification_output': np.array(y_val), 'bounding_box_output': np.array(bbox_val)}))"
      ],
      "metadata": {
        "id": "yEnlvtgB-p2U",
        "colab": {
          "base_uri": "https://localhost:8080/"
        },
        "outputId": "e38555e4-b38e-402b-ea88-45b0a74db23c"
      },
      "execution_count": 23,
      "outputs": [
        {
          "output_type": "stream",
          "name": "stdout",
          "text": [
            "Epoch 1/15\n",
            "40/40 [==============================] - 20s 229ms/step - loss: 1412589.3750 - classification_output_loss: 95.8819 - bounding_box_output_loss: 1412493.2500 - classification_output_accuracy: 0.6016 - val_loss: 33695.1133 - val_classification_output_loss: 0.6585 - val_bounding_box_output_loss: 33694.4492 - val_classification_output_accuracy: 0.7238\n",
            "Epoch 2/15\n",
            "40/40 [==============================] - 6s 139ms/step - loss: 40131.2305 - classification_output_loss: 0.6569 - bounding_box_output_loss: 40130.5820 - classification_output_accuracy: 0.7667 - val_loss: 22977.1484 - val_classification_output_loss: 0.6171 - val_bounding_box_output_loss: 22976.5293 - val_classification_output_accuracy: 0.7524\n",
            "Epoch 3/15\n",
            "40/40 [==============================] - 6s 140ms/step - loss: 35970.9492 - classification_output_loss: 0.6250 - bounding_box_output_loss: 35970.3242 - classification_output_accuracy: 0.7810 - val_loss: 22363.0527 - val_classification_output_loss: 0.5836 - val_bounding_box_output_loss: 22362.4707 - val_classification_output_accuracy: 0.7556\n",
            "Epoch 4/15\n",
            "40/40 [==============================] - 6s 139ms/step - loss: 33434.2617 - classification_output_loss: 0.5641 - bounding_box_output_loss: 33433.6875 - classification_output_accuracy: 0.7952 - val_loss: 27848.7168 - val_classification_output_loss: 0.6185 - val_bounding_box_output_loss: 27848.1016 - val_classification_output_accuracy: 0.7714\n",
            "Epoch 5/15\n",
            "40/40 [==============================] - 6s 140ms/step - loss: 33668.8555 - classification_output_loss: 0.5648 - bounding_box_output_loss: 33668.2891 - classification_output_accuracy: 0.7825 - val_loss: 22908.6191 - val_classification_output_loss: 0.5338 - val_bounding_box_output_loss: 22908.0840 - val_classification_output_accuracy: 0.8032\n",
            "Epoch 6/15\n",
            "40/40 [==============================] - 6s 141ms/step - loss: 31788.3945 - classification_output_loss: 0.4977 - bounding_box_output_loss: 31787.8945 - classification_output_accuracy: 0.8048 - val_loss: 23194.6562 - val_classification_output_loss: 0.5218 - val_bounding_box_output_loss: 23194.1328 - val_classification_output_accuracy: 0.7841\n",
            "Epoch 7/15\n",
            "40/40 [==============================] - 6s 141ms/step - loss: 31411.1172 - classification_output_loss: 0.4869 - bounding_box_output_loss: 31410.6309 - classification_output_accuracy: 0.8063 - val_loss: 26289.3965 - val_classification_output_loss: 0.5258 - val_bounding_box_output_loss: 26288.8691 - val_classification_output_accuracy: 0.8032\n",
            "Epoch 8/15\n",
            "40/40 [==============================] - 6s 151ms/step - loss: 29587.6387 - classification_output_loss: 0.4797 - bounding_box_output_loss: 29587.1562 - classification_output_accuracy: 0.8048 - val_loss: 23659.9238 - val_classification_output_loss: 0.5589 - val_bounding_box_output_loss: 23659.3672 - val_classification_output_accuracy: 0.7873\n",
            "Epoch 9/15\n",
            "40/40 [==============================] - 6s 150ms/step - loss: 29707.1621 - classification_output_loss: 0.4740 - bounding_box_output_loss: 29706.6855 - classification_output_accuracy: 0.8190 - val_loss: 21607.5020 - val_classification_output_loss: 0.5075 - val_bounding_box_output_loss: 21606.9961 - val_classification_output_accuracy: 0.7810\n",
            "Epoch 10/15\n",
            "40/40 [==============================] - 6s 152ms/step - loss: 30815.3438 - classification_output_loss: 0.4787 - bounding_box_output_loss: 30814.8633 - classification_output_accuracy: 0.8056 - val_loss: 21959.5625 - val_classification_output_loss: 0.5631 - val_bounding_box_output_loss: 21958.9980 - val_classification_output_accuracy: 0.8032\n",
            "Epoch 11/15\n",
            "40/40 [==============================] - 6s 142ms/step - loss: 29656.2246 - classification_output_loss: 0.4592 - bounding_box_output_loss: 29655.7656 - classification_output_accuracy: 0.8063 - val_loss: 26077.4805 - val_classification_output_loss: 0.5139 - val_bounding_box_output_loss: 26076.9668 - val_classification_output_accuracy: 0.8032\n",
            "Epoch 12/15\n",
            "40/40 [==============================] - 6s 155ms/step - loss: 28879.6504 - classification_output_loss: 0.4798 - bounding_box_output_loss: 28879.1680 - classification_output_accuracy: 0.8063 - val_loss: 22131.2012 - val_classification_output_loss: 0.6163 - val_bounding_box_output_loss: 22130.5859 - val_classification_output_accuracy: 0.7810\n",
            "Epoch 13/15\n",
            "40/40 [==============================] - 6s 152ms/step - loss: 29171.5469 - classification_output_loss: 0.4650 - bounding_box_output_loss: 29171.0801 - classification_output_accuracy: 0.8111 - val_loss: 22710.4043 - val_classification_output_loss: 0.5131 - val_bounding_box_output_loss: 22709.8945 - val_classification_output_accuracy: 0.7937\n",
            "Epoch 14/15\n",
            "40/40 [==============================] - 6s 147ms/step - loss: 29576.8770 - classification_output_loss: 0.4473 - bounding_box_output_loss: 29576.4277 - classification_output_accuracy: 0.8198 - val_loss: 21258.1543 - val_classification_output_loss: 0.5046 - val_bounding_box_output_loss: 21257.6484 - val_classification_output_accuracy: 0.8063\n",
            "Epoch 15/15\n",
            "40/40 [==============================] - 6s 145ms/step - loss: 29687.8887 - classification_output_loss: 0.4579 - bounding_box_output_loss: 29687.4316 - classification_output_accuracy: 0.8119 - val_loss: 21625.4648 - val_classification_output_loss: 0.6462 - val_bounding_box_output_loss: 21624.8184 - val_classification_output_accuracy: 0.7714\n"
          ]
        },
        {
          "output_type": "execute_result",
          "data": {
            "text/plain": [
              "<keras.src.callbacks.History at 0x7b7f41167bb0>"
            ]
          },
          "metadata": {},
          "execution_count": 23
        }
      ]
    },
    {
      "cell_type": "code",
      "source": [
        "eval_results = model.evaluate(np.array(X_val), {'classification_output': np.array(y_val), 'bounding_box_output': np.array(bbox_val)})\n",
        "\n",
        "\n",
        "print(\"Evaluation Results:\", eval_results)\n",
        "\n",
        "\n",
        "classification_accuracy = eval_results[3]\n",
        "print(f\"Classification Accuracy: {classification_accuracy * 100:.2f}%\")\n",
        "\n",
        "\n",
        "if len(eval_results) > 4:\n",
        "    bounding_box_mse = eval_results[4]\n",
        "    print(f\"Bounding Box MSE: {bounding_box_mse:.2f}\")\n",
        "else:\n",
        "    print(\"Bounding Box MSE not available in the evaluation results.\")"
      ],
      "metadata": {
        "id": "pJR3paXag8Yr",
        "colab": {
          "base_uri": "https://localhost:8080/"
        },
        "outputId": "b9b18912-155e-4df0-e014-ffb0ffd3c2ad"
      },
      "execution_count": 25,
      "outputs": [
        {
          "output_type": "stream",
          "name": "stdout",
          "text": [
            "10/10 [==============================] - 0s 37ms/step - loss: 21625.4648 - classification_output_loss: 0.6462 - bounding_box_output_loss: 21624.8184 - classification_output_accuracy: 0.7714\n",
            "Evaluation Results: [21625.46484375, 0.6462162137031555, 21624.818359375, 0.7714285850524902]\n",
            "Classification Accuracy: 77.14%\n",
            "Bounding Box MSE not available in the evaluation results.\n"
          ]
        }
      ]
    },
    {
      "cell_type": "markdown",
      "source": [
        "Saving the Model"
      ],
      "metadata": {
        "id": "keN37SHcEMeZ"
      }
    },
    {
      "cell_type": "code",
      "source": [
        "model.save('/content/model.h5')"
      ],
      "metadata": {
        "id": "cMchlfzMhrWZ",
        "colab": {
          "base_uri": "https://localhost:8080/"
        },
        "outputId": "3b77674e-adfb-44ac-deaf-e2ed625e8bc4"
      },
      "execution_count": 26,
      "outputs": [
        {
          "output_type": "stream",
          "name": "stderr",
          "text": [
            "/usr/local/lib/python3.10/dist-packages/keras/src/engine/training.py:3103: UserWarning: You are saving your model as an HDF5 file via `model.save()`. This file format is considered legacy. We recommend using instead the native Keras format, e.g. `model.save('my_model.keras')`.\n",
            "  saving_api.save_model(\n"
          ]
        }
      ]
    },
    {
      "cell_type": "code",
      "source": [
        "import cv2\n",
        "from tensorflow.keras.models import load_model\n",
        "from PIL import Image\n",
        "from sklearn.preprocessing import LabelEncoder\n",
        "from tensorflow.keras.utils import to_categorical"
      ],
      "metadata": {
        "id": "PhQO5oXNEUyS"
      },
      "execution_count": 27,
      "outputs": []
    },
    {
      "cell_type": "markdown",
      "source": [
        "# Loading the Model And Preprocessing\n"
      ],
      "metadata": {
        "id": "hCIhgxPyEY7v"
      }
    },
    {
      "cell_type": "code",
      "source": [
        "saved_model_path = '/content/model.h5'\n",
        "model = load_model(saved_model_path)\n",
        "\n",
        "input_image_path = '/content/dataset/train/28_jpg.rf.bd9b4bf664bb43e5310ab6d79416f286.jpg'\n",
        "input_image = Image.open(input_image_path)\n",
        "input_image_resized = input_image.resize((224, 224))\n",
        "input_image_normalized = np.array(input_image_resized) / 255.0\n",
        "input_image_expanded = np.expand_dims(input_image_normalized, axis=0)"
      ],
      "metadata": {
        "id": "omsFWAKXHyrF"
      },
      "execution_count": 29,
      "outputs": []
    },
    {
      "cell_type": "code",
      "source": [
        "predictions = model.predict(input_image_expanded)\n",
        "\n",
        "class_predictions = predictions[0]\n",
        "predicted_class_index = np.argmax(class_predictions)\n",
        "predicted_class = label_encoder.classes_[predicted_class_index]\n",
        "\n",
        "\n",
        "bounding_box_predictions = predictions[1][0]"
      ],
      "metadata": {
        "id": "1clueL7fJSkI",
        "colab": {
          "base_uri": "https://localhost:8080/"
        },
        "outputId": "0ca752c9-4890-4940-c87f-7ca3b51af508"
      },
      "execution_count": 31,
      "outputs": [
        {
          "output_type": "stream",
          "name": "stdout",
          "text": [
            "1/1 [==============================] - 1s 523ms/step\n"
          ]
        }
      ]
    },
    {
      "cell_type": "code",
      "source": [
        "image_width, image_height = input_image.size\n",
        "predicted_bbox = bounding_box_predictions * np.array([image_width, image_height, image_width, image_height])\n",
        "\n",
        "print(\"Predicted Class:\", predicted_class)\n",
        "print(\"Predicted Bounding Box Coordinates:\", predicted_bbox)\n",
        "\n",
        "\n",
        "input_image_with_bbox = np.array(input_image_resized)\n",
        "xmin, ymin, xmax, ymax = predicted_bbox.astype(int)\n",
        "cv2.rectangle(input_image_with_bbox, (xmin, ymin), (xmax, ymax), (0, 255, 0), 2)\n",
        "\n",
        "from IPython.display import display\n",
        "\n",
        "display(Image.fromarray(np.uint8(input_image_resized)))"
      ],
      "metadata": {
        "id": "uGhMw4PMJUHy",
        "colab": {
          "base_uri": "https://localhost:8080/",
          "height": 276
        },
        "outputId": "4767b629-a7ec-4eac-d881-2e2229493466"
      },
      "execution_count": 32,
      "outputs": [
        {
          "output_type": "stream",
          "name": "stdout",
          "text": [
            "Predicted Class: rust\n",
            "Predicted Bounding Box Coordinates: [1079.46510315 1237.60360718 1215.65971375 1593.67355347]\n"
          ]
        },
        {
          "output_type": "display_data",
          "data": {
            "text/plain": [
              "<PIL.Image.Image image mode=RGB size=224x224>"
            ],
            "image/png": "[encoded data removed]"
          },
          "metadata": {}
        }
      ]
    },
    {
      "cell_type": "markdown",
      "source": [
        "Note : Coudn't Find Any Video That I Could Utilize to Check how my model perfroms on that video. The Datasets from Roboflow does not contain any videos. The Model is Built with an Accuracy of Near 80% With just 15 Epochs."
      ],
      "metadata": {
        "id": "Ka9jdLzR8KsM"
      }
    },
    {
      "cell_type": "markdown",
      "source": [
        "After Running 30-50 Epochs the model has pottential to perform more that 90% accuracy."
      ],
      "metadata": {
        "id": "pcDt_gn28hIW"
      }
    },
    {
      "cell_type": "markdown",
      "source": [
        "There are still scopes for improvement with more Data Augmentation and Synthetic Image Creating which could help improve the overall model accuracy and performence"
      ],
      "metadata": {
        "id": "hRYQ7kQA9Odm"
      }
    },
    {
      "cell_type": "markdown",
      "source": [
        "Bellow is The code to divide images from given videos into seperate folders of images of cargo with defect and with no defect"
      ],
      "metadata": {
        "id": "YC2nYDtD_66s"
      }
    },
    {
      "cell_type": "code",
      "source": [
        "import cv2\n",
        "import numpy as np\n",
        "from tensorflow.keras.models import load_model\n",
        "from PIL import Image\n",
        "from IPython.display import display\n",
        "import os"
      ],
      "metadata": {
        "id": "3cKxtQIZ9aDa"
      },
      "execution_count": 34,
      "outputs": []
    },
    {
      "cell_type": "code",
      "source": [
        "saved_model_path = '/content/model.h5'\n",
        "model = load_model(saved_model_path)"
      ],
      "metadata": {
        "id": "nGT3Lh8qAeTF"
      },
      "execution_count": 35,
      "outputs": []
    },
    {
      "cell_type": "code",
      "source": [
        "\n",
        "output_folder_with_classes = '/content/frames_with_classes'\n",
        "output_folder_without_classes = '/content/frames_without_classes'\n",
        "\n",
        "os.makedirs(output_folder_with_classes, exist_ok=True)\n",
        "os.makedirs(output_folder_without_classes, exist_ok=True)\n"
      ],
      "metadata": {
        "id": "nnJOR_24ANpy"
      },
      "execution_count": null,
      "outputs": []
    },
    {
      "cell_type": "code",
      "source": [
        "video_path = 'video.mp4'\n",
        "cap = cv2.VideoCapture(video_path)\n",
        "\n",
        "\n",
        "fps = int(cap.get(cv2.CAP_PROP_FPS))\n",
        "frame_width = int(cap.get(cv2.CAP_PROP_FRAME_WIDTH))\n",
        "frame_height = int(cap.get(cv2.CAP_PROP_FRAME_HEIGHT))"
      ],
      "metadata": {
        "id": "TFsz1M09APjE"
      },
      "execution_count": null,
      "outputs": []
    },
    {
      "cell_type": "markdown",
      "source": [
        "Processing each frame"
      ],
      "metadata": {
        "id": "PHwqGHhCI-Lh"
      }
    },
    {
      "cell_type": "code",
      "source": [
        "while True:\n",
        "    ret, frame = cap.read()\n",
        "\n",
        "    if not ret:\n",
        "        break\n",
        "\n",
        "\n",
        "    input_frame_resized = cv2.resize(frame, (224, 224))\n",
        "    input_frame_normalized = input_frame_resized / 255.0\n",
        "    input_frame_expanded = np.expand_dims(input_frame_normalized, axis=0)\n",
        "\n",
        "\n",
        "    predictions = model.predict(input_frame_expanded)\n",
        "\n",
        "\n",
        "    class_predictions = predictions[0]\n",
        "    predicted_class_index = np.argmax(class_predictions)\n",
        "    predicted_class = label_encoder.classes_[predicted_class_index]\n",
        "\n",
        "\n",
        "    if predicted_class != 'no_class':\n",
        "        output_path = os.path.join(output_folder_with_classes, f'frame_{fps}_{predicted_class}.jpg')\n",
        "    else:\n",
        "        output_path = os.path.join(output_folder_without_classes, f'frame_{fps}.jpg')\n",
        "\n",
        "    cv2.imwrite(output_path, frame)"
      ],
      "metadata": {
        "id": "E0fQJIKDASCk"
      },
      "execution_count": null,
      "outputs": []
    },
    {
      "cell_type": "code",
      "source": [
        "cap.release()\n",
        "\n",
        "print(\"Frames with classes saved in:\", output_folder_with_classes)\n",
        "print(\"Frames without classes saved in:\", output_folder_without_classes)"
      ],
      "metadata": {
        "id": "kp1NIzLfAUOY"
      },
      "execution_count": null,
      "outputs": []
    }
  ]
}